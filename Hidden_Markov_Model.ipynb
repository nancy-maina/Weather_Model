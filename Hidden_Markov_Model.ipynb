{
  "nbformat": 4,
  "nbformat_minor": 0,
  "metadata": {
    "colab": {
      "name": "Hidden_Markov_Model",
      "provenance": []
    },
    "kernelspec": {
      "name": "python3",
      "display_name": "Python 3"
    },
    "language_info": {
      "name": "python"
    }
  },
  "cells": [
    {
      "cell_type": "code",
      "execution_count": 14,
      "metadata": {
        "colab": {
          "base_uri": "https://localhost:8080/"
        },
        "id": "bbsPapSRzlM2",
        "outputId": "e7821dfe-6d31-4d65-a70b-f21646453120"
      },
      "outputs": [
        {
          "output_type": "stream",
          "name": "stdout",
          "text": [
            "Colab only includes TensorFlow 2.x; %tensorflow_version has no effect.\n"
          ]
        }
      ],
      "source": [
        "%tensorflow_version 2.x"
      ]
    },
    {
      "cell_type": "code",
      "source": [
        "!pip install tensorflow_probability==0.8.0rc0 --user --upgrade"
      ],
      "metadata": {
        "colab": {
          "base_uri": "https://localhost:8080/"
        },
        "id": "SFOD0omxCtGk",
        "outputId": "3d4bdaed-c0d7-43c8-9e3f-cab92c1113c6"
      },
      "execution_count": 15,
      "outputs": [
        {
          "output_type": "stream",
          "name": "stdout",
          "text": [
            "Looking in indexes: https://pypi.org/simple, https://us-python.pkg.dev/colab-wheels/public/simple/\n",
            "Requirement already satisfied: tensorflow_probability==0.8.0rc0 in /root/.local/lib/python3.7/site-packages (0.8.0rc0)\n",
            "Requirement already satisfied: numpy>=1.13.3 in /usr/local/lib/python3.7/dist-packages (from tensorflow_probability==0.8.0rc0) (1.21.6)\n",
            "Requirement already satisfied: cloudpickle==1.1.1 in /root/.local/lib/python3.7/site-packages (from tensorflow_probability==0.8.0rc0) (1.1.1)\n",
            "Requirement already satisfied: six>=1.10.0 in /usr/local/lib/python3.7/dist-packages (from tensorflow_probability==0.8.0rc0) (1.15.0)\n",
            "Requirement already satisfied: decorator in /usr/local/lib/python3.7/dist-packages (from tensorflow_probability==0.8.0rc0) (4.4.2)\n"
          ]
        }
      ]
    },
    {
      "cell_type": "code",
      "source": [
        "import tensorflow_probability as tfp\n",
        "import tensorflow as tf\n"
      ],
      "metadata": {
        "id": "eWmu2yxK8fiC"
      },
      "execution_count": 16,
      "outputs": []
    },
    {
      "cell_type": "code",
      "source": [
        "tfd = tfp.distributions\n",
        "initial_distribution = tfd.Categorical(probs=[0.2, 0.8])\n",
        "transition_distribution = tfd.Categorical(probs = [[0.5, 0.5],\n",
        "                                                   [0.2, 0.8]])\n",
        "obesrvation_distribution = tfd.Normal(loc=[0., 15.], scale = [5., 10.]) # refer to point 5 and above\n",
        "\n",
        "# the loc argument represents the mean and the scale is the std dev"
      ],
      "metadata": {
        "id": "UGOdlkwZ8u_K"
      },
      "execution_count": 20,
      "outputs": []
    },
    {
      "cell_type": "code",
      "source": [
        "model = tfd.HiddenMarkovModel(\n",
        "    initial_distribution = initial_distribution,\n",
        "    transition_distribution= transition_distribution, \n",
        "    observation_distribution = obesrvation_distribution,\n",
        "    num_steps = 7)\n",
        " # steps is the number of days we wanna predict\n",
        "\n"
      ],
      "metadata": {
        "id": "zHOT21PqBvep"
      },
      "execution_count": 21,
      "outputs": []
    },
    {
      "cell_type": "code",
      "source": [
        "mean = model.mean()\n",
        "\n",
        "with tf.compat.v1.Session() as sess:\n",
        "  print(mean.numpy())"
      ],
      "metadata": {
        "colab": {
          "base_uri": "https://localhost:8080/"
        },
        "id": "VHbqmDcVCgGf",
        "outputId": "28a0eb23-d56c-4aa3-8ab7-ac40357d0adc"
      },
      "execution_count": 22,
      "outputs": [
        {
          "output_type": "stream",
          "name": "stdout",
          "text": [
            "[11.999999 11.1      10.830001 10.748999 10.724699 10.71741  10.715222]\n"
          ]
        }
      ]
    },
    {
      "cell_type": "code",
      "source": [
        ""
      ],
      "metadata": {
        "id": "5eK8fojwD2P8"
      },
      "execution_count": null,
      "outputs": []
    }
  ]
}